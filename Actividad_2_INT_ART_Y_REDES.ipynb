{
  "nbformat": 4,
  "nbformat_minor": 0,
  "metadata": {
    "colab": {
      "name": "Actividad 2 INT ART Y REDES",
      "provenance": []
    },
    "kernelspec": {
      "name": "python3",
      "display_name": "Python 3"
    },
    "language_info": {
      "name": "python"
    }
  },
  "cells": [
    {
      "cell_type": "code",
      "execution_count": 1,
      "metadata": {
        "colab": {
          "base_uri": "https://localhost:8080/"
        },
        "id": "hD_4-L-yuZDA",
        "outputId": "2346840b-98f2-4423-8430-12efc56c2b39"
      },
      "outputs": [
        {
          "output_type": "stream",
          "name": "stdout",
          "text": [
            "[6, 5, 4, 3, 2]\n"
          ]
        }
      ],
      "source": [
        "#Miguel Angel Oyervides Torres 1850276 IMTC JN1\n",
        "#Ejercicio 1\n",
        "lista = [2,3,4,5,6]\n",
        "lista2 = lista[::-1]\n",
        "print(lista2)\n"
      ]
    },
    {
      "cell_type": "code",
      "source": [
        "#Miguel Angel Oyervides Torres 1850276 IMTC JN1\n",
        "#Ejercicio 2\n",
        "print (\"hola,mucho gusto dime tu nombre\")\n",
        "name = input()\n",
        "if name == 'Pedro':\n",
        "    print('Adios Pedro')\n",
        "if name == \"Ana\":\n",
        "    print('Adios Ana')\n",
        "if name == \"Juan\":\n",
        "    print('Adios Juan')\n",
        "else:\n",
        "    print('Mucho gusto, {}'.format(name))\n"
      ],
      "metadata": {
        "colab": {
          "base_uri": "https://localhost:8080/"
        },
        "id": "WcAlw6REv4QK",
        "outputId": "1eb5c679-e8b7-4913-8c68-cd4c02963be9"
      },
      "execution_count": 12,
      "outputs": [
        {
          "output_type": "stream",
          "name": "stdout",
          "text": [
            "hola,mucho gusto dime tu nombre\n",
            "Ana\n",
            "Adios Ana\n"
          ]
        }
      ]
    },
    {
      "cell_type": "code",
      "source": [
        "#Miguel Angel Oyervides Torres 1850276 IMTC JN1\n",
        "#Ejercicio 3\n",
        "def hello_world(words):\n",
        "  \n",
        "    size = max(len(word) for word in words)\n",
        "    print(\"*\"*(size+4))\n",
        "\n",
        "    for i in words:\n",
        "      print(\"*\"+\" \"+i+\" \"*((size+4)-len(i)-3)+\"*\")\n",
        "    print(\"*\"*(size+4))   \n",
        "\n",
        "hello_world([\"hola\",\"a\",\"todos\",\"esto\",\"es\",\"un\",\"marco\"])"
      ],
      "metadata": {
        "colab": {
          "base_uri": "https://localhost:8080/"
        },
        "id": "ucFvZaWKv4dP",
        "outputId": "2bdf1c47-6972-478f-eb00-5206544e7b19"
      },
      "execution_count": 5,
      "outputs": [
        {
          "output_type": "stream",
          "name": "stdout",
          "text": [
            "*********\n",
            "* hola  *\n",
            "* a     *\n",
            "* todos *\n",
            "* esto  *\n",
            "* es    *\n",
            "* un    *\n",
            "* marco *\n",
            "*********\n"
          ]
        }
      ]
    }
  ]
}